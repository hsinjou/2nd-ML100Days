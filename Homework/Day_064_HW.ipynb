{
 "cells": [
  {
   "cell_type": "markdown",
   "metadata": {},
   "source": [
    "# 作業\n",
    "* 選擇迴歸資料集(右) - 交錯六群，在其他參數保持預設值的情況下，只允許調整隱藏層層數與神經元數量，且遵守下列限制   \n",
    "> * 隱藏層神經元總數最多 8 個 (即 : 可以單層 8 個，或兩層 5 個與 3 個)   \n",
    "> * 遞迴次數只允許跑到500次  \n",
    "* 在上述限制下，挑戰看看測試誤差 (Test Loss) 最低能到多少? 請回答你的神經元參數與 Test Loss 數"
   ]
  },
  {
   "cell_type": "markdown",
   "metadata": {},
   "source": []
  },
  {
   "cell_type": "markdown",
   "metadata": {},
   "source": [
    "https://pairlabs.ai/tensorflow-playground/index_tw.html#activation=tanh&batchSize=10&dataset=circle&regDataset=reg-plane&learningRate=0.03&regularizationRate=0&noise=0&networkShape=4,2&seed=0.81970&showTestData=false&discretize=false&percTrainData=50&x=true&y=true&xTimesY=false&xSquared=false&ySquared=false&cosX=false&sinX=false&cosY=false&sinY=false&collectStats=false&problem=classification&initZero=false&hideText=false"
   ]
  },
  {
   "cell_type": "markdown",
   "metadata": {},
   "source": [
    "Test1：\n",
    "\n",
    "隱藏層神經元：1層（8個)；遞迴次數：500次；Test Loss：0.016\n",
    "\n",
    "Test2：\n",
    "\n",
    "隱藏層神經元：2層（4個+4個)；遞迴次數：500次；Test Loss：0.019\n",
    "\n",
    "Test3：\n",
    "\n",
    "隱藏層神經元：2層（3個+5個)；遞迴次數：500次；Test Loss：0.021\n",
    "\n",
    "Test4：\n",
    "\n",
    "隱藏層神經元：2層（5個+3個)；遞迴次數：500次；Test Loss：0.015\n",
    "\n",
    "\n",
    "Test5：\n",
    "\n",
    "隱藏層神經元：2層（6個+2個)；遞迴次數：500次；Test Loss：0.016"
   ]
  },
  {
   "cell_type": "markdown",
   "metadata": {},
   "source": [
    "### 結論：\n",
    "Test 4的Test Loss結果最好。\n",
    "\n",
    "隱藏層神經元：2層（5個+3個)；遞迴次數：500次；Test Loss：0.015"
   ]
  }
 ],
 "metadata": {
  "kernelspec": {
   "display_name": "Python 3",
   "language": "python",
   "name": "python3"
  },
  "language_info": {
   "codemirror_mode": {
    "name": "ipython",
    "version": 3
   },
   "file_extension": ".py",
   "mimetype": "text/x-python",
   "name": "python",
   "nbconvert_exporter": "python",
   "pygments_lexer": "ipython3",
   "version": "3.7.3"
  }
 },
 "nbformat": 4,
 "nbformat_minor": 2
}
