{
 "cells": [
  {
   "cell_type": "markdown",
   "metadata": {},
   "source": [
    "## [作業重點]\n",
    "了解隨機森林改善了決策樹的什麼缺點？是用什麼方法改進的？"
   ]
  },
  {
   "cell_type": "markdown",
   "metadata": {},
   "source": [
    "## 作業\n",
    "\n",
    "閱讀以下兩篇文獻，了解隨機森林原理，並試著回答後續的思考問題\n",
    "- [隨機森林 (random forest) - 中文](http://hhtucode.blogspot.tw/2013/06/ml-random-forest.html)\n",
    "- [how random forest works - 英文](https://medium.com/@Synced/how-random-forest-algorithm-works-in-machine-learning-3c0fe15b6674)\n",
    "\n",
    "- http://notebookpage1005.blogspot.com/2018/03/random-forest.html"
   ]
  },
  {
   "cell_type": "markdown",
   "metadata": {},
   "source": [
    "\n",
    "1. 隨機森林中的每一棵樹，是希望能夠\n",
    "\n",
    "    - (A)沒有任何限制，讓樹可以持續生長 (讓樹生成很深，讓模型變得複雜)\n",
    "    \n",
    "    - (B)不要過度生長，避免 Overfitting\n",
    "    \n",
    "Ans：B，隨機森林能解決過度配置，根據原始論文的說法是在大數法則下，樹的結果會趨向一致，雖然單顆樹是過度複雜沒錯，但只要一開始抽樣的隨機性是足夠的，考慮各種組合的集合會是更接近真實的狀況，預測錯誤率大幅降低。\n",
    "    \n",
    "2. 假設總共有 N 筆資料，每棵樹用取後放回的方式抽了總共 N 筆資料生成，請問這棵樹大約使用了多少 % 不重複的原資料生成?\n",
    "hint: 0.632 bootstrap(http://sofasofa.io/forum_main_post.php?postid=1000691)\n",
    "\n",
    "Ans：63.2% (http://sofasofa.io/forum_main_post.php?postid=1000691)\n",
    "\n",
    "\n",
    "在第一次抽樣時，樣本A被選中的機率是1n，所以反之不會被選中的機率就是1-1n了。\n",
    "\n",
    "每次抽取都是獨立的，所以當抽完n次後，A一次都沒有被抽中的機率就是(1−1n)n.\n",
    "\n",
    "lim n→∞(1−1n)n=1e.\n",
    "\n",
    "所以當bootstrap樣本總數很大的時候，任一樣本被抽中的機率就是1−1e≈1−12.71828≈0.632。\n"
   ]
  },
  {
   "cell_type": "code",
   "execution_count": null,
   "metadata": {},
   "outputs": [],
   "source": []
  }
 ],
 "metadata": {
  "kernelspec": {
   "display_name": "Python 3",
   "language": "python",
   "name": "python3"
  },
  "language_info": {
   "codemirror_mode": {
    "name": "ipython",
    "version": 3
   },
   "file_extension": ".py",
   "mimetype": "text/x-python",
   "name": "python",
   "nbconvert_exporter": "python",
   "pygments_lexer": "ipython3",
   "version": "3.7.3"
  }
 },
 "nbformat": 4,
 "nbformat_minor": 2
}
