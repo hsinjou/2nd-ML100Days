{
 "cells": [
  {
   "cell_type": "markdown",
   "metadata": {},
   "source": [
    "## Work\n",
    "1. 請嘗試寫一個 callback 用來記錄各類別在訓練過程中，對驗證集的 True Positive 與 True Negative"
   ]
  },
  {
   "cell_type": "code",
   "execution_count": 1,
   "metadata": {},
   "outputs": [
    {
     "name": "stderr",
     "output_type": "stream",
     "text": [
      "Using TensorFlow backend.\n"
     ]
    }
   ],
   "source": [
    "import os\n",
    "import keras\n",
    "\n",
    "# Disable GPU\n",
    "os.environ[\"CUDA_VISIBLE_DEVICES\"] = \"\""
   ]
  },
  {
   "cell_type": "code",
   "execution_count": 2,
   "metadata": {},
   "outputs": [],
   "source": [
    "train, test = keras.datasets.cifar10.load_data()"
   ]
  },
  {
   "cell_type": "code",
   "execution_count": 3,
   "metadata": {},
   "outputs": [],
   "source": [
    "## 資料前處理\n",
    "def preproc_x(x, flatten=True):\n",
    "    x = x / 255.\n",
    "    if flatten:\n",
    "        x = x.reshape((len(x), -1))\n",
    "    return x\n",
    "\n",
    "def preproc_y(y, num_classes=10):\n",
    "    if y.shape[-1] == 1:\n",
    "        y = keras.utils.to_categorical(y, num_classes)\n",
    "    return y    "
   ]
  },
  {
   "cell_type": "code",
   "execution_count": 4,
   "metadata": {},
   "outputs": [],
   "source": [
    "x_train, y_train = train\n",
    "x_test, y_test = test\n",
    "\n",
    "# Preproc the inputs\n",
    "x_train = preproc_x(x_train)\n",
    "x_test = preproc_x(x_test)\n",
    "\n",
    "# Preprc the outputs\n",
    "y_train = preproc_y(y_train)\n",
    "y_test = preproc_y(y_test)"
   ]
  },
  {
   "cell_type": "code",
   "execution_count": 5,
   "metadata": {},
   "outputs": [],
   "source": [
    "from keras.layers import BatchNormalization\n",
    "def build_mlp(input_shape, output_units=10, num_neurons=[256, 256, 256]):\n",
    "    input_layer = keras.layers.Input(input_shape)\n",
    "    \n",
    "    for i, n_units in enumerate(num_neurons):\n",
    "        if i == 0:\n",
    "            x = keras.layers.Dense(units=n_units, \n",
    "                                   activation=\"relu\", \n",
    "                                   name=\"hidden_layer\"+str(i+1))(input_layer)\n",
    "            x = BatchNormalization()(x)\n",
    "        else:\n",
    "            x = keras.layers.Dense(units=n_units, \n",
    "                                   activation=\"relu\", \n",
    "                                   name=\"hidden_layer\"+str(i+1))(x)\n",
    "            x = BatchNormalization()(x)\n",
    "    \n",
    "    out = keras.layers.Dense(units=output_units, activation=\"softmax\", name=\"output\")(x)\n",
    "    \n",
    "    model = keras.models.Model(inputs=[input_layer], outputs=[out])\n",
    "    return model"
   ]
  },
  {
   "cell_type": "code",
   "execution_count": 6,
   "metadata": {},
   "outputs": [],
   "source": [
    "## 超參數設定\n",
    "LEARNING_RATE = 1e-3\n",
    "EPOCHS = 25\n",
    "BATCH_SIZE = 1024\n",
    "MOMENTUM = 0.95"
   ]
  },
  {
   "cell_type": "code",
   "execution_count": 11,
   "metadata": {},
   "outputs": [],
   "source": [
    "# 載入 Callbacks\n",
    "from keras.callbacks import Callback\n",
    "import numpy as np\n",
    "# Record_fp_tp\n",
    "class Record_tp_tn(Callback):\n",
    "    \"\"\"Code Here\n",
    "    撰寫一個紀錄 ture positive 與 true negative 數量的 callbacks    \n",
    "    \"\"\"\n",
    "    def on_train_begin(self, epoch, logs = {}):\n",
    "        logs = logs or {}\n",
    "        record_items = [\"val_auc\", \"val_f1sc\", \"val_fp\", \"val_fn\", \"val_tp\", \"val_tn\"]\n",
    "        for i in record_items:\n",
    "            if i not in self.params['metrics']:\n",
    "                self.params['metrics'].append(i)\n",
    "    \n",
    "    def on_epoch_end(self, epoch, logs = {}, thres=0.5):\n",
    "        logs = logs or {}\n",
    "        y_true = self.validation_data[1].argmax(axis = 1)\n",
    "        y_pred = self.model.predict(self.validation_data[0])\n",
    "        y_pred = (y_pred[:, 1] >= thres) * 1\n",
    "        \n",
    "        true_positives = np.sum(np.logical_and(y_pred == 1, y_true == 1)) #預測是1結果也是1\n",
    "        true_negatives = np.sum(np.logical_and(y_pred == 0, y_true == 0))\n",
    "        logs[\"true_positives\"] = true_positives\n",
    "        logs[\"true_negatives\"] = true_negatives\n",
    "        \n",
    "rec_tptn = Record_tp_tn()"
   ]
  },
  {
   "cell_type": "code",
   "execution_count": 12,
   "metadata": {
    "scrolled": true
   },
   "outputs": [
    {
     "name": "stderr",
     "output_type": "stream",
     "text": [
      "WARNING: Logging before flag parsing goes to stderr.\n",
      "W0805 16:53:47.657144 15068 deprecation_wrapper.py:119] From C:\\Users\\Rosa\\Anaconda3\\lib\\site-packages\\keras\\backend\\tensorflow_backend.py:74: The name tf.get_default_graph is deprecated. Please use tf.compat.v1.get_default_graph instead.\n",
      "\n",
      "W0805 16:53:47.738935 15068 deprecation_wrapper.py:119] From C:\\Users\\Rosa\\Anaconda3\\lib\\site-packages\\keras\\backend\\tensorflow_backend.py:517: The name tf.placeholder is deprecated. Please use tf.compat.v1.placeholder instead.\n",
      "\n",
      "W0805 16:53:47.761875 15068 deprecation_wrapper.py:119] From C:\\Users\\Rosa\\Anaconda3\\lib\\site-packages\\keras\\backend\\tensorflow_backend.py:4138: The name tf.random_uniform is deprecated. Please use tf.random.uniform instead.\n",
      "\n",
      "W0805 16:53:47.887538 15068 deprecation_wrapper.py:119] From C:\\Users\\Rosa\\Anaconda3\\lib\\site-packages\\keras\\backend\\tensorflow_backend.py:133: The name tf.placeholder_with_default is deprecated. Please use tf.compat.v1.placeholder_with_default instead.\n",
      "\n",
      "W0805 16:53:48.342321 15068 deprecation_wrapper.py:119] From C:\\Users\\Rosa\\Anaconda3\\lib\\site-packages\\keras\\optimizers.py:790: The name tf.train.Optimizer is deprecated. Please use tf.compat.v1.train.Optimizer instead.\n",
      "\n",
      "W0805 16:53:48.357282 15068 deprecation_wrapper.py:119] From C:\\Users\\Rosa\\Anaconda3\\lib\\site-packages\\keras\\backend\\tensorflow_backend.py:3295: The name tf.log is deprecated. Please use tf.math.log instead.\n",
      "\n",
      "W0805 16:53:48.470979 15068 deprecation.py:323] From C:\\Users\\Rosa\\Anaconda3\\lib\\site-packages\\tensorflow\\python\\ops\\math_grad.py:1250: add_dispatch_support.<locals>.wrapper (from tensorflow.python.ops.array_ops) is deprecated and will be removed in a future version.\n",
      "Instructions for updating:\n",
      "Use tf.where in 2.0, which has the same broadcast rule as np.where\n"
     ]
    },
    {
     "name": "stdout",
     "output_type": "stream",
     "text": [
      "_________________________________________________________________\n",
      "Layer (type)                 Output Shape              Param #   \n",
      "=================================================================\n",
      "input_1 (InputLayer)         (None, 3072)              0         \n",
      "_________________________________________________________________\n",
      "hidden_layer1 (Dense)        (None, 256)               786688    \n",
      "_________________________________________________________________\n",
      "batch_normalization_1 (Batch (None, 256)               1024      \n",
      "_________________________________________________________________\n",
      "hidden_layer2 (Dense)        (None, 256)               65792     \n",
      "_________________________________________________________________\n",
      "batch_normalization_2 (Batch (None, 256)               1024      \n",
      "_________________________________________________________________\n",
      "hidden_layer3 (Dense)        (None, 256)               65792     \n",
      "_________________________________________________________________\n",
      "batch_normalization_3 (Batch (None, 256)               1024      \n",
      "_________________________________________________________________\n",
      "output (Dense)               (None, 10)                2570      \n",
      "=================================================================\n",
      "Total params: 923,914\n",
      "Trainable params: 922,378\n",
      "Non-trainable params: 1,536\n",
      "_________________________________________________________________\n",
      "Train on 50000 samples, validate on 10000 samples\n",
      "Epoch 1/25\n",
      "50000/50000 [==============================] - 10s 192us/step - loss: 2.2327 - acc: 0.2654 - val_loss: 2.3420 - val_acc: 0.2743\n",
      "Epoch 2/25\n",
      "50000/50000 [==============================] - 8s 155us/step - loss: 1.7820 - acc: 0.3802 - val_loss: 1.8905 - val_acc: 0.3570\n",
      "Epoch 3/25\n",
      "50000/50000 [==============================] - 7s 139us/step - loss: 1.6477 - acc: 0.4223 - val_loss: 1.6962 - val_acc: 0.4043\n",
      "Epoch 4/25\n",
      "50000/50000 [==============================] - 7s 135us/step - loss: 1.5698 - acc: 0.4514 - val_loss: 1.6540 - val_acc: 0.4200\n",
      "Epoch 5/25\n",
      "50000/50000 [==============================] - 7s 137us/step - loss: 1.5131 - acc: 0.4714 - val_loss: 1.6128 - val_acc: 0.4340\n",
      "Epoch 6/25\n",
      "50000/50000 [==============================] - 7s 133us/step - loss: 1.4686 - acc: 0.4864 - val_loss: 1.6114 - val_acc: 0.4360\n",
      "Epoch 7/25\n",
      "50000/50000 [==============================] - 6s 112us/step - loss: 1.4303 - acc: 0.5005 - val_loss: 1.5673 - val_acc: 0.4442\n",
      "Epoch 8/25\n",
      "50000/50000 [==============================] - 6s 114us/step - loss: 1.3962 - acc: 0.5115 - val_loss: 1.5361 - val_acc: 0.4582\n",
      "Epoch 9/25\n",
      "50000/50000 [==============================] - 6s 121us/step - loss: 1.3655 - acc: 0.5216 - val_loss: 1.5275 - val_acc: 0.4597\n",
      "Epoch 10/25\n",
      "50000/50000 [==============================] - 6s 114us/step - loss: 1.3384 - acc: 0.5318 - val_loss: 1.5167 - val_acc: 0.4591\n",
      "Epoch 11/25\n",
      "50000/50000 [==============================] - 6s 113us/step - loss: 1.3128 - acc: 0.5416 - val_loss: 1.5082 - val_acc: 0.4643\n",
      "Epoch 12/25\n",
      "50000/50000 [==============================] - 6s 113us/step - loss: 1.2877 - acc: 0.5519 - val_loss: 1.4867 - val_acc: 0.4722\n",
      "Epoch 13/25\n",
      "50000/50000 [==============================] - 6s 116us/step - loss: 1.2649 - acc: 0.5612 - val_loss: 1.4927 - val_acc: 0.4705\n",
      "Epoch 14/25\n",
      "50000/50000 [==============================] - 7s 135us/step - loss: 1.2428 - acc: 0.5702 - val_loss: 1.4814 - val_acc: 0.4770\n",
      "Epoch 15/25\n",
      "50000/50000 [==============================] - 6s 128us/step - loss: 1.2222 - acc: 0.5766 - val_loss: 1.4764 - val_acc: 0.4781\n",
      "Epoch 16/25\n",
      "50000/50000 [==============================] - 6s 113us/step - loss: 1.2020 - acc: 0.5854 - val_loss: 1.4746 - val_acc: 0.4813\n",
      "Epoch 17/25\n",
      "50000/50000 [==============================] - 6s 113us/step - loss: 1.1831 - acc: 0.5914 - val_loss: 1.4668 - val_acc: 0.4772\n",
      "Epoch 18/25\n",
      "50000/50000 [==============================] - 6s 128us/step - loss: 1.1639 - acc: 0.5984 - val_loss: 1.4550 - val_acc: 0.4894\n",
      "Epoch 19/25\n",
      "50000/50000 [==============================] - 6s 117us/step - loss: 1.1447 - acc: 0.6077 - val_loss: 1.4594 - val_acc: 0.4848\n",
      "Epoch 20/25\n",
      "50000/50000 [==============================] - 6s 120us/step - loss: 1.1264 - acc: 0.6137 - val_loss: 1.4564 - val_acc: 0.4828\n",
      "Epoch 21/25\n",
      "50000/50000 [==============================] - 6s 114us/step - loss: 1.1087 - acc: 0.6206 - val_loss: 1.4493 - val_acc: 0.4878\n",
      "Epoch 22/25\n",
      "50000/50000 [==============================] - 7s 139us/step - loss: 1.0927 - acc: 0.6252 - val_loss: 1.4479 - val_acc: 0.4888\n",
      "Epoch 23/25\n",
      "50000/50000 [==============================] - 6s 111us/step - loss: 1.0755 - acc: 0.6332 - val_loss: 1.4553 - val_acc: 0.4909\n",
      "Epoch 24/25\n",
      "50000/50000 [==============================] - 7s 146us/step - loss: 1.0590 - acc: 0.6395 - val_loss: 1.4421 - val_acc: 0.4910\n",
      "Epoch 25/25\n",
      "50000/50000 [==============================] - 7s 144us/step - loss: 1.0415 - acc: 0.6455 - val_loss: 1.4541 - val_acc: 0.4904\n"
     ]
    }
   ],
   "source": [
    "model = build_mlp(input_shape=x_train.shape[1:])\n",
    "model.summary()\n",
    "optimizer = keras.optimizers.SGD(lr=LEARNING_RATE, nesterov=True, momentum=MOMENTUM)\n",
    "model.compile(loss=\"categorical_crossentropy\", metrics=[\"accuracy\"], optimizer=optimizer)\n",
    "\n",
    "\"\"\"Code Here\n",
    "將 callbacks 放入模型訓練流程中\n",
    "\"\"\"\n",
    "model.fit(x_train, y_train, \n",
    "          epochs=EPOCHS, \n",
    "          batch_size=BATCH_SIZE, \n",
    "          validation_data=(x_test, y_test), \n",
    "          shuffle=True,\n",
    "          callbacks=[rec_tptn]\n",
    "         )\n",
    "\n",
    "# Collect results\n",
    "train_loss = model.history.history[\"loss\"]\n",
    "valid_loss = model.history.history[\"val_loss\"]\n",
    "train_acc = model.history.history[\"acc\"]\n",
    "valid_acc = model.history.history[\"val_acc\"]\n",
    "\n",
    "\"\"\"Code Here\n",
    "將 tp/tn 從訓練完的模型中取出\n",
    "\"\"\"\n",
    "valid_tp = model.history.history['true_positives']\n",
    "valid_tn = model.history.history['true_negatives']"
   ]
  },
  {
   "cell_type": "code",
   "execution_count": 13,
   "metadata": {},
   "outputs": [
    {
     "data": {
      "image/png": "[encoded data removed]",
      "text/plain": [
       "<Figure size 432x288 with 1 Axes>"
      ]
     },
     "metadata": {
      "needs_background": "light"
     },
     "output_type": "display_data"
    },
    {
     "data": {
      "image/png": "[encoded data removed]",
      "text/plain": [
       "<Figure size 432x288 with 1 Axes>"
      ]
     },
     "metadata": {
      "needs_background": "light"
     },
     "output_type": "display_data"
    },
    {
     "data": {
      "image/png": "[encoded data removed]",
      "text/plain": [
       "<Figure size 432x288 with 1 Axes>"
      ]
     },
     "metadata": {
      "needs_background": "light"
     },
     "output_type": "display_data"
    }
   ],
   "source": [
    "import matplotlib.pyplot as plt\n",
    "%matplotlib inline\n",
    "\n",
    "plt.plot(range(len(train_loss)), train_loss, label=\"train loss\")\n",
    "plt.plot(range(len(valid_loss)), valid_loss, label=\"valid loss\")\n",
    "plt.legend()\n",
    "plt.title(\"Loss\")\n",
    "plt.show()\n",
    "\n",
    "plt.plot(range(len(train_acc)), train_acc, label=\"train accuracy\")\n",
    "plt.plot(range(len(valid_acc)), valid_acc, label=\"valid accuracy\")\n",
    "plt.legend()\n",
    "plt.title(\"Accuracy\")\n",
    "plt.show()\n",
    "\n",
    "plt.plot(range(len(valid_tp)), valid_tp, label=\"valid tp\", color=\"navy\")\n",
    "plt.plot(range(len(valid_tn)), valid_tn, label=\"valid tn\", color=\"red\")\n",
    "plt.legend()\n",
    "plt.title(\"True positives and True Negatives\")\n",
    "plt.show()\n"
   ]
  }
 ],
 "metadata": {
  "kernelspec": {
   "display_name": "Python 3",
   "language": "python",
   "name": "python3"
  },
  "language_info": {
   "codemirror_mode": {
    "name": "ipython",
    "version": 3
   },
   "file_extension": ".py",
   "mimetype": "text/x-python",
   "name": "python",
   "nbconvert_exporter": "python",
   "pygments_lexer": "ipython3",
   "version": "3.7.3"
  }
 },
 "nbformat": 4,
 "nbformat_minor": 2
}
