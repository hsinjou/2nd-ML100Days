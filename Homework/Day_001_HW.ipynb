{
 "cells": [
  {
   "cell_type": "markdown",
   "metadata": {},
   "source": [
    "# 作業1：\n",
    "\n",
    "請上 Kaggle, 在 Competitions 或 Dataset 中找一組競賽或資料並寫下：\n",
    "\n",
    "1. 你選的這組資料為何重要\n",
    "\n",
    "2. 資料從何而來 (tips: 譬如提供者是誰、以什麼方式蒐集)\n",
    "\n",
    "3. 蒐集而來的資料型態為何\n",
    "\n",
    "4. 這組資料想解決的問題如何評估\n"
   ]
  },
  {
   "cell_type": "markdown",
   "metadata": {},
   "source": [
    "Dataset：[Wine Reviews](https://www.kaggle.com/zynicide/wine-reviews)\n",
    "\n",
    "Data Source：zachthoutt, [WineEnthusiast](https://www.winemag.com/?s=&drink_type=wine)        \n",
    "\n",
    "Data Type：csv,json\n",
    "  \n",
    "  資料的提供者從世界最大的葡萄酒刊物-Wine Enthusiast所整理而來的紅酒評酒資料描述，Wine Enthusiast會讓評酒人員用盲飲的方式進行評酒，在不\n",
    "受到廠牌及價格的影響給予評分，因此這組資料就是收集紅酒的描述，以及對應的紅酒名稱、品牌、價格及產地等資訊。\n",
    "  資料的提供者是希望可以將資料建立成一個模型，之後就可以透過描述，分辨出紅酒的品種、酒廠及產地等資訊，所以我認為可以先去分析一部分的資料，看相同的地區所產出的紅酒，是不是會有相似的關鍵字描述，以此類推找出描述中最常出現的關鍵字，進行資料的分類，如果可以建立一個模型後，我覺得這組資料可以有更進一步的利用價值，因為現在市面上已經有不少app是透過掃描酒標來辨識紅酒，同時顯示出該紅酒的評分，但卻沒有一個工具可以推薦紅酒，常常都只能靠自己盲測的方式，試喝或是上網爬文章才能找到紅酒，所以如果模型建立後，就可以從描述反推紅酒的名稱，如此一來使用者就可以透過勾選想要尋找的紅酒口感來找到適合的紅酒，就不用在網路上大海撈針的搜尋資料了。 "
   ]
  },
  {
   "cell_type": "markdown",
   "metadata": {},
   "source": [
    "# 作業2：\n",
    "\n",
    "想像你經營一個自由載客車隊，你希望能透過數據分析以提升業績，請你思考並描述你如何規劃整體的分析/解決方案：\n",
    "\n",
    "1. 核心問題為何 (tips：如何定義 「提升業績 & 你的假設」)\n",
    "\n",
    "2. 資料從何而來 (tips：哪些資料可能會對你想問的問題產生影響 & 資料如何蒐集)\n",
    "\n",
    "3. 蒐集而來的資料型態為何\n",
    "\n",
    "4. 你要回答的問題，其如何評估 (tips：你的假設如何驗證)\n"
   ]
  },
  {
   "cell_type": "markdown",
   "metadata": {},
   "source": [
    "  我認為提升業績的方式主要分為「營業額提升」及「客源增加」這兩個部分，除了營業額要上升外，也必須要開發新的客源，開拓新的使用者，才有辦法開展更大的市場，所以我的假設為：\n",
    "  \n",
    "   1.確認目前的行銷方式（例如優惠代碼的使用率）對於營業額是否有影響？會不會使用的頻率並不高？或是通常使用的群族為何？ \n",
    "  \n",
    "   2.因為使用者得使用app的方式進行叫車，所以可以分析使用者的資料，得知是否為新用戶以及叫車的頻率，因此可以得知使用者是否為新加入的會員，及      加入入平台的原因，是透過活動的優惠代碼？還是朋友推薦等方式？\n",
    "  \n",
    "   3.通常使用者會使用平台叫車的時間點或時機點為何？會不會因為下大雨所以搭車的人變多？會不會因為沒有捷運，所以大家都改用平台叫車呢？\n",
    "  \n",
    "  為了要回答假設的問題，所以需要收集以下的資料(csv)：\n",
    "  \n",
    "   1.過往實行的優惠代碼、活動資訊、營業額及使用者搭車的行為（搭車的日期、金額、是否有輸入優惠代碼）\n",
    "  \n",
    "   2.使用者個基本資料及一開始登入app的行為（朋友推薦碼、活動代碼）\n",
    "    \n",
    "   3.收集該地區的天氣資料或是路跑資訊(日期、地點）\n",
    "  \n",
    "  透過以上收集的資料，可以分析：\n",
    "  \n",
    "   1.活動實行期間（優惠代碼有效期間）該優惠的使用頻率（使用率/會員數）與營業額的關聯、搭車日期與使用頻率的關聯，推測出該優惠代碼實行的有效\n",
    "   性及找出使用者通常會使用平台叫車的時段。\n",
    "  \n",
    "   2.透過使用者的基本資料，對應出一開始註冊app的使用行為，分析出新用戶最有可能被吸引使用app的方式，進而規劃相對應的活動，吸引新用戶使用。\n",
    "  \n",
    "   3.天氣與營業額的相關性、路跑活動與營業額的相關性，如果天氣對營業額有影響的話，就可以逆向思考，不是趁機抬高價錢，而是提出優惠的方式，這\n",
    "      樣才不會因為價格的暴漲，讓使用者捨棄使用我們的平台轉而找其他的車行；如果該地區有活動的舉辦可以帶動營業額的話，就可以考慮跟主辦單位合\n",
    "      作，提出優惠代碼。\n",
    "  "
   ]
  },
  {
   "cell_type": "markdown",
   "metadata": {},
   "source": [
    "# 作業3\n",
    "\n",
    "#### 請寫一個函式用來計算 Mean Square Error\n",
    "$ MSE = \\frac{1}{n}\\sum_{i=1}^{n}{(Y_i - \\hat{Y}_i)^2} $"
   ]
  },
  {
   "cell_type": "markdown",
   "metadata": {},
   "source": [
    "### NOTE：\n",
    "\n",
    "#### 【次方的計算】：用 ** 或是 math.power() (https://googoodesign.gitbooks.io/-ezpython/unit-1.html)\n",
    "\n",
    "『平方』\n",
    "\n",
    " 5 ** 2 =  25 ；  math.pow(5,2) =  25.0\n",
    "\n",
    "『開根號』\n",
    "\n",
    " 5 ** 0.5 =  2.2360679775 ； math.pow(5,0.5) =  2.2360679775\n",
    " \n",
    "#### 【絕對值】：abs()\n",
    "\n",
    " abs(-45) = 45\n",
    " \n",
    "#### 【常見於迴歸問題的評估指標】\n",
    "\n",
    "Mean Absolute Error (MAE)：平均絕對誤差\n",
    "\n",
    "Mean Squared Error (MSE)：均方誤差\n",
    "\n",
    "#### 【常見於分類問題的指標】\n",
    "\n",
    "Binary Cross Entropy (CE)：交叉熵"
   ]
  },
  {
   "cell_type": "code",
   "execution_count": 14,
   "metadata": {},
   "outputs": [],
   "source": [
    "import numpy as np\n",
    "import matplotlib.pyplot as plt"
   ]
  },
  {
   "cell_type": "code",
   "execution_count": 15,
   "metadata": {},
   "outputs": [],
   "source": [
    "def mean_absolute_error(y, yp):\n",
    "    \"\"\"\n",
    "    計算 MAE\n",
    "    Args:\n",
    "        - y: 實際值\n",
    "        - yp: 預測值\n",
    "    Return:\n",
    "        - mae: MAE\n",
    "        \n",
    "    abs()：返回數字的絕對值\n",
    "    \"\"\"\n",
    "    mae = MAE = sum(abs(y - yp)) / len(y)\n",
    "    return mae"
   ]
  },
  {
   "cell_type": "code",
   "execution_count": 16,
   "metadata": {},
   "outputs": [],
   "source": [
    "def mean_squared_error(y, yp):\n",
    "    \"\"\"\n",
    "    計算 MSE\n",
    "     Args:\n",
    "        - y: 實際值\n",
    "        - yp: 預測值\n",
    "    Return:\n",
    "        - mse: MSE\n",
    "    \"\"\"\n",
    "    mse = MSE = sum((y - yp)**2) / len(y)\n",
    "    return mse"
   ]
  },
  {
   "cell_type": "code",
   "execution_count": 17,
   "metadata": {},
   "outputs": [
    {
     "data": {
      "image/png": "[encoded data removed]",
      "text/plain": [
       "<Figure size 432x288 with 1 Axes>"
      ]
     },
     "metadata": {
      "needs_background": "light"
     },
     "output_type": "display_data"
    }
   ],
   "source": [
    "w = 3\n",
    "b = 0.5\n",
    "\n",
    "x_lin = np.linspace(0, 100, 101)\n",
    "\n",
    "y = (x_lin + np.random.randn(101) * 5) * w + b\n",
    "\n",
    "plt.plot(x_lin, y, 'b.', label = 'data points')\n",
    "plt.title(\"Assume we have data points\")\n",
    "plt.legend(loc = 2)\n",
    "plt.show()"
   ]
  },
  {
   "cell_type": "code",
   "execution_count": 18,
   "metadata": {},
   "outputs": [
    {
     "data": {
      "image/png": "[encoded data removed]",
      "text/plain": [
       "<Figure size 432x288 with 1 Axes>"
      ]
     },
     "metadata": {
      "needs_background": "light"
     },
     "output_type": "display_data"
    }
   ],
   "source": [
    "y_hat = x_lin * w + b\n",
    "plt.plot(x_lin, y, 'b.', label = 'data')\n",
    "plt.plot(x_lin, y_hat, 'r-', label = 'prediction')\n",
    "plt.title(\"Assume we have data points (And the prediction)\")\n",
    "plt.legend(loc = 2)\n",
    "plt.show()"
   ]
  },
  {
   "cell_type": "code",
   "execution_count": 19,
   "metadata": {},
   "outputs": [
    {
     "name": "stdout",
     "output_type": "stream",
     "text": [
      "The Mean squared error is 174.988\n",
      "The Mean absolute error is 10.803\n"
     ]
    }
   ],
   "source": [
    "# 執行 Function, 確認有沒有正常執行\n",
    "MSE = mean_squared_error(y, y_hat)\n",
    "MAE = mean_absolute_error(y, y_hat)\n",
    "print(\"The Mean squared error is %.3f\" % (MSE))\n",
    "print(\"The Mean absolute error is %.3f\" % (MAE))"
   ]
  }
 ],
 "metadata": {
  "anaconda-cloud": {},
  "kernelspec": {
   "display_name": "Python 3",
   "language": "python",
   "name": "python3"
  },
  "language_info": {
   "codemirror_mode": {
    "name": "ipython",
    "version": 3
   },
   "file_extension": ".py",
   "mimetype": "text/x-python",
   "name": "python",
   "nbconvert_exporter": "python",
   "pygments_lexer": "ipython3",
   "version": "3.7.3"
  }
 },
 "nbformat": 4,
 "nbformat_minor": 1
}
