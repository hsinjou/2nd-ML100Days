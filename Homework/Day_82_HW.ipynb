{
 "cells": [
  {
   "cell_type": "markdown",
   "metadata": {},
   "source": [
    "## Work\n",
    "1. 請比較使用不同層數以及不同 Dropout rate 對訓練的效果\n",
    "2. 將 optimizer 改成使用 Adam 並加上適當的 dropout rate 檢視結果"
   ]
  },
  {
   "cell_type": "code",
   "execution_count": 1,
   "metadata": {},
   "outputs": [
    {
     "name": "stderr",
     "output_type": "stream",
     "text": [
      "Using TensorFlow backend.\n"
     ]
    }
   ],
   "source": [
    "import os\n",
    "import keras\n",
    "import itertools\n",
    "# Disable GPU\n",
    "os.environ[\"CUDA_VISIBLE_DEVICES\"] = \"\""
   ]
  },
  {
   "cell_type": "code",
   "execution_count": 2,
   "metadata": {},
   "outputs": [],
   "source": [
    "train, test = keras.datasets.cifar10.load_data()"
   ]
  },
  {
   "cell_type": "code",
   "execution_count": 3,
   "metadata": {},
   "outputs": [],
   "source": [
    "## 資料前處理\n",
    "def preproc_x(x, flatten=True):\n",
    "    x = x / 255.\n",
    "    if flatten:\n",
    "        x = x.reshape((len(x), -1))\n",
    "    return x\n",
    "\n",
    "def preproc_y(y, num_classes=10):\n",
    "    if y.shape[-1] == 1:\n",
    "        y = keras.utils.to_categorical(y, num_classes)\n",
    "    return y    "
   ]
  },
  {
   "cell_type": "code",
   "execution_count": 4,
   "metadata": {},
   "outputs": [],
   "source": [
    "x_train, y_train = train\n",
    "x_test, y_test = test\n",
    "\n",
    "# Preproc the inputs\n",
    "x_train = preproc_x(x_train)\n",
    "x_test = preproc_x(x_test)\n",
    "\n",
    "# Preprc the outputs\n",
    "y_train = preproc_y(y_train)\n",
    "y_test = preproc_y(y_test)"
   ]
  },
  {
   "cell_type": "code",
   "execution_count": 5,
   "metadata": {},
   "outputs": [],
   "source": [
    "from keras.layers import Dropout\n",
    "\n",
    "\"\"\"\n",
    "建立神經網路，並加入 dropout layer\n",
    "\"\"\"\n",
    "def build_mlp(input_shape, output_units=10, num_neurons=[512, 256, 128,64], drp_ratio=0.2):\n",
    "    input_layer = keras.layers.Input(input_shape)\n",
    "    \n",
    "    for i, n_units in enumerate(num_neurons):\n",
    "        if i == 0:\n",
    "            x = keras.layers.Dense(units=n_units, \n",
    "                                   activation=\"relu\", \n",
    "                                   name=\"hidden_layer\"+str(i+1))(input_layer)\n",
    "            x = Dropout(drp_ratio)(x)\n",
    "        else:\n",
    "            x = keras.layers.Dense(units=n_units, \n",
    "                                   activation=\"relu\", \n",
    "                                   name=\"hidden_layer\"+str(i+1))(x)\n",
    "            x = Dropout(drp_ratio)(x)\n",
    "    \n",
    "    out = keras.layers.Dense(units=output_units, activation=\"softmax\", name=\"output\")(x)\n",
    "    \n",
    "    model = keras.models.Model(inputs=[input_layer], outputs=[out])\n",
    "    return model"
   ]
  },
  {
   "cell_type": "code",
   "execution_count": 6,
   "metadata": {},
   "outputs": [],
   "source": [
    "## 超參數設定\n",
    "LEARNING_RATE = 1e-3\n",
    "EPOCHS = 50\n",
    "BATCH_SIZE = 256\n",
    "Dropout_EXP = 0.25"
   ]
  },
  {
   "cell_type": "code",
   "execution_count": 9,
   "metadata": {
    "scrolled": true
   },
   "outputs": [
    {
     "name": "stdout",
     "output_type": "stream",
     "text": [
      "_________________________________________________________________\n",
      "Layer (type)                 Output Shape              Param #   \n",
      "=================================================================\n",
      "input_3 (InputLayer)         (None, 3072)              0         \n",
      "_________________________________________________________________\n",
      "hidden_layer1 (Dense)        (None, 512)               1573376   \n",
      "_________________________________________________________________\n",
      "dropout_9 (Dropout)          (None, 512)               0         \n",
      "_________________________________________________________________\n",
      "hidden_layer2 (Dense)        (None, 256)               131328    \n",
      "_________________________________________________________________\n",
      "dropout_10 (Dropout)         (None, 256)               0         \n",
      "_________________________________________________________________\n",
      "hidden_layer3 (Dense)        (None, 128)               32896     \n",
      "_________________________________________________________________\n",
      "dropout_11 (Dropout)         (None, 128)               0         \n",
      "_________________________________________________________________\n",
      "hidden_layer4 (Dense)        (None, 64)                8256      \n",
      "_________________________________________________________________\n",
      "dropout_12 (Dropout)         (None, 64)                0         \n",
      "_________________________________________________________________\n",
      "output (Dense)               (None, 10)                650       \n",
      "=================================================================\n",
      "Total params: 1,746,506\n",
      "Trainable params: 1,746,506\n",
      "Non-trainable params: 0\n",
      "_________________________________________________________________\n",
      "Train on 50000 samples, validate on 10000 samples\n",
      "Epoch 1/50\n",
      "50000/50000 [==============================] - 20s 393us/step - loss: 2.1250 - acc: 0.2009 - val_loss: 1.9015 - val_acc: 0.3147\n",
      "Epoch 2/50\n",
      "50000/50000 [==============================] - 20s 395us/step - loss: 1.9448 - acc: 0.2820 - val_loss: 1.8182 - val_acc: 0.3480\n",
      "Epoch 3/50\n",
      "50000/50000 [==============================] - 19s 385us/step - loss: 1.8942 - acc: 0.3050 - val_loss: 1.7955 - val_acc: 0.3548\n",
      "Epoch 4/50\n",
      "50000/50000 [==============================] - 18s 359us/step - loss: 1.8574 - acc: 0.3220 - val_loss: 1.7619 - val_acc: 0.3692\n",
      "Epoch 5/50\n",
      "50000/50000 [==============================] - 16s 313us/step - loss: 1.8339 - acc: 0.3302 - val_loss: 1.7588 - val_acc: 0.3657\n",
      "Epoch 6/50\n",
      "50000/50000 [==============================] - 16s 319us/step - loss: 1.8002 - acc: 0.3478 - val_loss: 1.7087 - val_acc: 0.4036\n",
      "Epoch 7/50\n",
      "50000/50000 [==============================] - 16s 325us/step - loss: 1.7781 - acc: 0.3561 - val_loss: 1.6807 - val_acc: 0.4066\n",
      "Epoch 8/50\n",
      "50000/50000 [==============================] - 17s 345us/step - loss: 1.7719 - acc: 0.3575 - val_loss: 1.6813 - val_acc: 0.4056\n",
      "Epoch 9/50\n",
      "50000/50000 [==============================] - 15s 302us/step - loss: 1.7434 - acc: 0.3712 - val_loss: 1.6458 - val_acc: 0.4182\n",
      "Epoch 10/50\n",
      "50000/50000 [==============================] - 15s 305us/step - loss: 1.7289 - acc: 0.3743 - val_loss: 1.6430 - val_acc: 0.4264\n",
      "Epoch 11/50\n",
      "50000/50000 [==============================] - 16s 327us/step - loss: 1.7196 - acc: 0.3785 - val_loss: 1.6584 - val_acc: 0.4106\n",
      "Epoch 12/50\n",
      "50000/50000 [==============================] - 16s 324us/step - loss: 1.7224 - acc: 0.3781 - val_loss: 1.6299 - val_acc: 0.4212\n",
      "Epoch 13/50\n",
      "50000/50000 [==============================] - 16s 322us/step - loss: 1.7050 - acc: 0.3863 - val_loss: 1.6225 - val_acc: 0.4305\n",
      "Epoch 14/50\n",
      "50000/50000 [==============================] - 16s 322us/step - loss: 1.6958 - acc: 0.3882 - val_loss: 1.6152 - val_acc: 0.4281\n",
      "Epoch 15/50\n",
      "50000/50000 [==============================] - 16s 320us/step - loss: 1.6867 - acc: 0.3944 - val_loss: 1.6389 - val_acc: 0.4170\n",
      "Epoch 16/50\n",
      "50000/50000 [==============================] - 16s 324us/step - loss: 1.6759 - acc: 0.3982 - val_loss: 1.6133 - val_acc: 0.4193\n",
      "Epoch 17/50\n",
      "50000/50000 [==============================] - 16s 320us/step - loss: 1.6711 - acc: 0.3974 - val_loss: 1.5945 - val_acc: 0.4413\n",
      "Epoch 18/50\n",
      "50000/50000 [==============================] - 16s 319us/step - loss: 1.6592 - acc: 0.4015 - val_loss: 1.5703 - val_acc: 0.4512\n",
      "Epoch 19/50\n",
      "50000/50000 [==============================] - 16s 320us/step - loss: 1.6553 - acc: 0.4054 - val_loss: 1.5857 - val_acc: 0.4374\n",
      "Epoch 20/50\n",
      "50000/50000 [==============================] - 17s 349us/step - loss: 1.6599 - acc: 0.4067 - val_loss: 1.5835 - val_acc: 0.4464\n",
      "Epoch 21/50\n",
      "50000/50000 [==============================] - 16s 323us/step - loss: 1.6458 - acc: 0.4062 - val_loss: 1.5743 - val_acc: 0.4385\n",
      "Epoch 22/50\n",
      "50000/50000 [==============================] - 16s 323us/step - loss: 1.6482 - acc: 0.4087 - val_loss: 1.5657 - val_acc: 0.4477\n",
      "Epoch 23/50\n",
      "50000/50000 [==============================] - 16s 324us/step - loss: 1.6418 - acc: 0.4089 - val_loss: 1.5682 - val_acc: 0.4455\n",
      "Epoch 24/50\n",
      "50000/50000 [==============================] - 17s 330us/step - loss: 1.6337 - acc: 0.4141 - val_loss: 1.5495 - val_acc: 0.4503\n",
      "Epoch 25/50\n",
      "50000/50000 [==============================] - 16s 326us/step - loss: 1.6278 - acc: 0.4151 - val_loss: 1.5768 - val_acc: 0.4453\n",
      "Epoch 26/50\n",
      "50000/50000 [==============================] - 17s 331us/step - loss: 1.6229 - acc: 0.4149 - val_loss: 1.5533 - val_acc: 0.4568\n",
      "Epoch 27/50\n",
      "50000/50000 [==============================] - 16s 328us/step - loss: 1.6225 - acc: 0.4168 - val_loss: 1.5530 - val_acc: 0.4507\n",
      "Epoch 28/50\n",
      "50000/50000 [==============================] - 17s 330us/step - loss: 1.6168 - acc: 0.4203 - val_loss: 1.5348 - val_acc: 0.4594\n",
      "Epoch 29/50\n",
      "50000/50000 [==============================] - 16s 330us/step - loss: 1.6129 - acc: 0.4174 - val_loss: 1.5268 - val_acc: 0.4586\n",
      "Epoch 30/50\n",
      "50000/50000 [==============================] - 17s 333us/step - loss: 1.6073 - acc: 0.4238 - val_loss: 1.5369 - val_acc: 0.4548\n",
      "Epoch 31/50\n",
      "50000/50000 [==============================] - 16s 326us/step - loss: 1.6043 - acc: 0.4249 - val_loss: 1.5401 - val_acc: 0.4568\n",
      "Epoch 32/50\n",
      "50000/50000 [==============================] - 17s 336us/step - loss: 1.5970 - acc: 0.4266 - val_loss: 1.5256 - val_acc: 0.4606\n",
      "Epoch 33/50\n",
      "50000/50000 [==============================] - 16s 328us/step - loss: 1.5968 - acc: 0.4267 - val_loss: 1.5177 - val_acc: 0.4618\n",
      "Epoch 34/50\n",
      "50000/50000 [==============================] - 16s 328us/step - loss: 1.5953 - acc: 0.4271 - val_loss: 1.5268 - val_acc: 0.4639\n",
      "Epoch 35/50\n",
      "50000/50000 [==============================] - 17s 347us/step - loss: 1.5937 - acc: 0.4278 - val_loss: 1.5284 - val_acc: 0.4582\n",
      "Epoch 36/50\n",
      "50000/50000 [==============================] - 17s 331us/step - loss: 1.5845 - acc: 0.4319 - val_loss: 1.5160 - val_acc: 0.4644\n",
      "Epoch 37/50\n",
      "50000/50000 [==============================] - 17s 332us/step - loss: 1.5769 - acc: 0.4351 - val_loss: 1.5228 - val_acc: 0.4569\n",
      "Epoch 38/50\n",
      "50000/50000 [==============================] - 17s 332us/step - loss: 1.5746 - acc: 0.4333 - val_loss: 1.5180 - val_acc: 0.4596\n",
      "Epoch 39/50\n",
      "50000/50000 [==============================] - 17s 330us/step - loss: 1.5739 - acc: 0.4343 - val_loss: 1.5362 - val_acc: 0.4541\n",
      "Epoch 40/50\n",
      "50000/50000 [==============================] - 18s 352us/step - loss: 1.5721 - acc: 0.4383 - val_loss: 1.5395 - val_acc: 0.4562\n",
      "Epoch 41/50\n",
      "50000/50000 [==============================] - 20s 391us/step - loss: 1.5702 - acc: 0.4382 - val_loss: 1.5090 - val_acc: 0.4695\n",
      "Epoch 42/50\n",
      "50000/50000 [==============================] - 16s 319us/step - loss: 1.5684 - acc: 0.4381 - val_loss: 1.5103 - val_acc: 0.4658\n",
      "Epoch 43/50\n",
      "50000/50000 [==============================] - 16s 321us/step - loss: 1.5654 - acc: 0.4373 - val_loss: 1.5042 - val_acc: 0.4695\n",
      "Epoch 44/50\n",
      "50000/50000 [==============================] - 16s 328us/step - loss: 1.5675 - acc: 0.4390 - val_loss: 1.5481 - val_acc: 0.4532\n",
      "Epoch 45/50\n",
      "50000/50000 [==============================] - 16s 320us/step - loss: 1.5674 - acc: 0.4367 - val_loss: 1.5078 - val_acc: 0.4665\n",
      "Epoch 46/50\n",
      "50000/50000 [==============================] - 16s 319us/step - loss: 1.5663 - acc: 0.4398 - val_loss: 1.5000 - val_acc: 0.4702\n",
      "Epoch 47/50\n"
     ]
    },
    {
     "name": "stdout",
     "output_type": "stream",
     "text": [
      "50000/50000 [==============================] - 14s 287us/step - loss: 1.5458 - acc: 0.4460 - val_loss: 1.5153 - val_acc: 0.4716\n",
      "Epoch 48/50\n",
      "50000/50000 [==============================] - 15s 297us/step - loss: 1.5506 - acc: 0.4445 - val_loss: 1.5016 - val_acc: 0.4812\n",
      "Epoch 49/50\n",
      "50000/50000 [==============================] - 14s 289us/step - loss: 1.5502 - acc: 0.4468 - val_loss: 1.5019 - val_acc: 0.4652\n",
      "Epoch 50/50\n",
      "50000/50000 [==============================] - 14s 289us/step - loss: 1.5455 - acc: 0.4441 - val_loss: 1.5042 - val_acc: 0.4740\n"
     ]
    }
   ],
   "source": [
    "results = {}\n",
    "\"\"\"Code Here\n",
    "撰寫你的訓練流程並將結果用 dictionary 紀錄\n",
    "\"\"\"\n",
    "model = build_mlp(input_shape=x_train.shape[1:], drp_ratio=Dropout_EXP)\n",
    "model.summary()\n",
    "optimizer = keras.optimizers.adam(lr=LEARNING_RATE)\n",
    "model.compile(loss=\"categorical_crossentropy\", metrics=[\"accuracy\"], optimizer=optimizer)\n",
    "\n",
    "model.fit(x_train, y_train, \n",
    "          epochs=EPOCHS, \n",
    "          batch_size=BATCH_SIZE, \n",
    "          validation_data=(x_test, y_test), \n",
    "          shuffle=True)\n",
    "\n",
    "# Collect results\n",
    "train_loss = model.history.history[\"loss\"]\n",
    "valid_loss = model.history.history[\"val_loss\"]\n",
    "train_acc = model.history.history[\"acc\"]\n",
    "valid_acc = model.history.history[\"val_acc\"]"
   ]
  },
  {
   "cell_type": "code",
   "execution_count": 10,
   "metadata": {},
   "outputs": [
    {
     "data": {
      "image/png": "[encoded data removed]",
      "text/plain": [
       "<Figure size 432x288 with 1 Axes>"
      ]
     },
     "metadata": {
      "needs_background": "light"
     },
     "output_type": "display_data"
    },
    {
     "data": {
      "image/png": "[encoded data removed]",
      "text/plain": [
       "<Figure size 432x288 with 1 Axes>"
      ]
     },
     "metadata": {
      "needs_background": "light"
     },
     "output_type": "display_data"
    }
   ],
   "source": [
    "import matplotlib.pyplot as plt\n",
    "%matplotlib inline\n",
    "\n",
    "plt.plot(range(len(train_loss)), train_loss, label=\"train loss\")\n",
    "plt.plot(range(len(valid_loss)), valid_loss, label=\"valid loss\")\n",
    "plt.legend()\n",
    "plt.title(\"Loss\")\n",
    "plt.show()\n",
    "\n",
    "plt.plot(range(len(train_acc)), train_acc, label=\"train accuracy\")\n",
    "plt.plot(range(len(valid_acc)), valid_acc, label=\"valid accuracy\")\n",
    "plt.legend()\n",
    "plt.title(\"Accuracy\")\n",
    "plt.show()"
   ]
  }
 ],
 "metadata": {
  "kernelspec": {
   "display_name": "Python 3",
   "language": "python",
   "name": "python3"
  },
  "language_info": {
   "codemirror_mode": {
    "name": "ipython",
    "version": 3
   },
   "file_extension": ".py",
   "mimetype": "text/x-python",
   "name": "python",
   "nbconvert_exporter": "python",
   "pygments_lexer": "ipython3",
   "version": "3.7.3"
  }
 },
 "nbformat": 4,
 "nbformat_minor": 2
}
