{
 "cells": [
  {
   "cell_type": "markdown",
   "metadata": {},
   "source": [
    "## [作業重點]\n",
    "確保你了解隨機森林模型中每個超參數的意義，並觀察調整超參數對結果的影響"
   ]
  },
  {
   "cell_type": "markdown",
   "metadata": {},
   "source": [
    "## 作業\n",
    "\n",
    "1. 試著調整 RandomForestClassifier(...) 中的參數，並觀察是否會改變結果？\n",
    "2. 改用其他資料集 (boston, wine)，並與回歸模型與決策樹的結果進行比較"
   ]
  },
  {
   "cell_type": "code",
   "execution_count": 19,
   "metadata": {},
   "outputs": [],
   "source": [
    "import numpy as np\n",
    "from sklearn import datasets, metrics, linear_model\n",
    "from sklearn.ensemble import RandomForestClassifier\n",
    "from sklearn.model_selection import train_test_split\n",
    "from sklearn.tree import DecisionTreeClassifier\n",
    "from sklearn.metrics import mean_squared_error, r2_score, accuracy_score\n",
    "\n",
    "\n",
    "# 如果是分類問題，請使用 RandomForestClassifier，若為回歸問題，請使用 RandomForestRegressor"
   ]
  },
  {
   "cell_type": "code",
   "execution_count": 20,
   "metadata": {},
   "outputs": [],
   "source": [
    "# 讀取鳶尾花資料集\n",
    "iris = datasets.load_iris()\n",
    "\n",
    "# 切分訓練集/測試集\n",
    "x_train, x_test, y_train, y_test = train_test_split(iris.data, iris.target, test_size=0.25, random_state=4)\n",
    "\n",
    "# 建立模型 1 (使用 20 顆樹，每棵樹的最大深度為 4)\n",
    "# 建立模型 2 (使用 10 顆樹，每棵樹的最大深度為 4)\n",
    "# 建立模型 3 (使用 20 顆樹，每棵樹的最大深度為 10)\n",
    "clf1 = RandomForestClassifier(n_estimators=20, max_depth=4)\n",
    "clf2 = RandomForestClassifier(n_estimators=10, max_depth=4)\n",
    "clf3 = RandomForestClassifier(n_estimators=20, max_depth=10)\n",
    "\n",
    "# 訓練模型\n",
    "clf1.fit(x_train, y_train)\n",
    "clf2.fit(x_train, y_train)\n",
    "clf3.fit(x_train, y_train)\n",
    "\n",
    "# 預測測試集\n",
    "y_pred1 = clf1.predict(x_test)\n",
    "y_pred2 = clf2.predict(x_test)\n",
    "y_pred3 = clf3.predict(x_test)"
   ]
  },
  {
   "cell_type": "code",
   "execution_count": 21,
   "metadata": {},
   "outputs": [
    {
     "name": "stdout",
     "output_type": "stream",
     "text": [
      "clf1_Accuracy:  0.9736842105263158\n",
      "clf2_Accuracy:  0.9736842105263158\n",
      "clf3_Accuracy:  0.9473684210526315\n"
     ]
    }
   ],
   "source": [
    "acc1 = metrics.accuracy_score(y_test, y_pred1)\n",
    "acc2 = metrics.accuracy_score(y_test, y_pred2)\n",
    "acc3 = metrics.accuracy_score(y_test, y_pred3)\n",
    "print(\"clf1_Accuracy: \", acc1)\n",
    "print(\"clf2_Accuracy: \", acc2)\n",
    "print(\"clf3_Accuracy: \", acc3)"
   ]
  },
  {
   "cell_type": "markdown",
   "metadata": {},
   "source": [
    "### 讀取wine資料集\n",
    "#### 目標：分類"
   ]
  },
  {
   "cell_type": "code",
   "execution_count": 22,
   "metadata": {},
   "outputs": [
    {
     "name": "stdout",
     "output_type": "stream",
     "text": [
      "回歸模型_Accuracy:  0.9444444444444444\n"
     ]
    },
    {
     "name": "stderr",
     "output_type": "stream",
     "text": [
      "C:\\Users\\Rosa\\Anaconda3\\lib\\site-packages\\sklearn\\linear_model\\logistic.py:433: FutureWarning: Default solver will be changed to 'lbfgs' in 0.22. Specify a solver to silence this warning.\n",
      "  FutureWarning)\n",
      "C:\\Users\\Rosa\\Anaconda3\\lib\\site-packages\\sklearn\\linear_model\\logistic.py:460: FutureWarning: Default multi_class will be changed to 'auto' in 0.22. Specify the multi_class option to silence this warning.\n",
      "  \"this warning.\", FutureWarning)\n"
     ]
    }
   ],
   "source": [
    "# Model-A:回歸模型 (Logistics regression)\n",
    "#讀取wine資料集\n",
    "wine = datasets.load_wine()\n",
    "\n",
    "# 切分訓練集/測試集\n",
    "x_train, x_test, y_train, y_test = train_test_split(wine.data, wine.target, test_size=0.1, random_state=4)\n",
    "\n",
    "# 建立模型\n",
    "logreg = linear_model.LogisticRegression()\n",
    "\n",
    "# 訓練模型\n",
    "logreg.fit(x_train, y_train)\n",
    "\n",
    "# 預測測試集\n",
    "y_pred_1 = logreg.predict(x_test)\n",
    "\n",
    "# acc\n",
    "acc_1 = accuracy_score(y_test, y_pred_1)\n",
    "print(\"回歸模型_Accuracy: \", acc_1)"
   ]
  },
  {
   "cell_type": "code",
   "execution_count": 25,
   "metadata": {},
   "outputs": [
    {
     "name": "stdout",
     "output_type": "stream",
     "text": [
      "決策樹模型_Accuracy:  0.9111111111111111\n"
     ]
    }
   ],
   "source": [
    "# Model-B:決策樹模型 (DecisionTreeClassifier)\n",
    "#讀取wine資料集\n",
    "wine = datasets.load_wine()\n",
    "\n",
    "# 切分訓練集/測試集\n",
    "x_train, x_test, y_train, y_test = train_test_split(wine.data, wine.target, test_size=0.25, random_state=4)\n",
    "\n",
    "# 建立模型\n",
    "clft = DecisionTreeClassifier()\n",
    "\n",
    "# 訓練模型\n",
    "clft.fit(x_train, y_train)\n",
    "\n",
    "# 預測測試集\n",
    "y_pred_2 = clft.predict(x_test)\n",
    "\n",
    "# acc\n",
    "acc_2 = accuracy_score(y_test, y_pred_2)\n",
    "print(\"決策樹模型_Accuracy: \", acc_2)"
   ]
  },
  {
   "cell_type": "code",
   "execution_count": 27,
   "metadata": {},
   "outputs": [
    {
     "name": "stdout",
     "output_type": "stream",
     "text": [
      "隨機森林模型_Accuracy:  1.0\n"
     ]
    }
   ],
   "source": [
    "# Model-C:隨機森林模型 (RandomForestClassifier)\n",
    "#讀取wine資料集\n",
    "wine = datasets.load_wine()\n",
    "\n",
    "# 切分訓練集/測試集\n",
    "x_train, x_test, y_train, y_test = train_test_split(wine.data, wine.target, test_size=0.25, random_state=4)\n",
    "\n",
    "# 建立模型 1 (使用 20 顆樹，每棵樹的最大深度為 4)\n",
    "# 建立模型 2 (使用 10 顆樹，每棵樹的最大深度為 4)\n",
    "# 建立模型 3 (使用 20 顆樹，每棵樹的最大深度為 10)\n",
    "clf = RandomForestClassifier(n_estimators=20, max_depth=4)\n",
    "\n",
    "# 訓練模型\n",
    "clf.fit(x_train, y_train)\n",
    "\n",
    "\n",
    "# 預測測試集\n",
    "y_pred_3 = clf.predict(x_test)\n",
    "\n",
    "# acc\n",
    "acc_3 = accuracy_score(y_test, y_pred_3)\n",
    "print(\"隨機森林模型_Accuracy: \", acc_3)"
   ]
  },
  {
   "cell_type": "code",
   "execution_count": 28,
   "metadata": {},
   "outputs": [
    {
     "name": "stdout",
     "output_type": "stream",
     "text": [
      "回歸模型_Accuracy:  0.9444444444444444\n",
      "決策樹模型_Accuracy:  0.9111111111111111\n",
      "隨機森林模型_Accuracy:  1.0\n"
     ]
    }
   ],
   "source": [
    "print(\"回歸模型_Accuracy: \", acc_1)\n",
    "print(\"決策樹模型_Accuracy: \", acc_2)\n",
    "print(\"隨機森林模型_Accuracy: \", acc_3)"
   ]
  }
 ],
 "metadata": {
  "kernelspec": {
   "display_name": "Python 3",
   "language": "python",
   "name": "python3"
  },
  "language_info": {
   "codemirror_mode": {
    "name": "ipython",
    "version": 3
   },
   "file_extension": ".py",
   "mimetype": "text/x-python",
   "name": "python",
   "nbconvert_exporter": "python",
   "pygments_lexer": "ipython3",
   "version": "3.7.3"
  }
 },
 "nbformat": 4,
 "nbformat_minor": 2
}
