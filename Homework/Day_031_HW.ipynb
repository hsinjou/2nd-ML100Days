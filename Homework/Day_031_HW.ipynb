{
 "cells": [
  {
   "cell_type": "markdown",
   "metadata": {},
   "source": [
    "## 練習時間"
   ]
  },
  {
   "cell_type": "markdown",
   "metadata": {},
   "source": [
    "請觀看台大電機李宏毅教授的影片。李教授會用非常淺顯易懂的方式介紹甚麼是機器學習。\n"
   ]
  },
  {
   "cell_type": "markdown",
   "metadata": {},
   "source": [
    "[youtube](https://www.youtube.com/watch?v=CXgbekl66jc)"
   ]
  },
  {
   "cell_type": "markdown",
   "metadata": {},
   "source": [
    "## 請找出一個你認為機器學習可以發光發熱的領域並闡述原因? "
   ]
  },
  {
   "cell_type": "markdown",
   "metadata": {},
   "source": [
    "   我覺得可以將機器學習利用在醫學領域，因為現在有很多疾病的判別依靠的是醫生的經驗，但每個醫生的經驗不同，所以判斷的條件式也就有所差異，或是有可能有一些條件尚未被發現，所以就可以利用監督式機器學習的方式，讓機器從資料裡面找到可以判斷疾病的特徵，並找到更有效率判別的模型，雖然不是要讓機器學習取代掉醫生，只是希望可以藉由機器學習的輔助，讓疾病可以更早且更有效率地被發掘，讓模型輔助醫生進行判斷，而不單只有依靠每位醫生各自的經驗。"
   ]
  }
 ],
 "metadata": {
  "kernelspec": {
   "display_name": "Python 3",
   "language": "python",
   "name": "python3"
  },
  "language_info": {
   "codemirror_mode": {
    "name": "ipython",
    "version": 3
   },
   "file_extension": ".py",
   "mimetype": "text/x-python",
   "name": "python",
   "nbconvert_exporter": "python",
   "pygments_lexer": "ipython3",
   "version": "3.7.3"
  }
 },
 "nbformat": 4,
 "nbformat_minor": 2
}
